{
 "cells": [
  {
   "cell_type": "markdown",
   "metadata": {},
   "source": [
    "# Particle Categorical"
   ]
  },
  {
   "cell_type": "code",
   "execution_count": 1,
   "metadata": {
    "tags": []
   },
   "outputs": [
    {
     "name": "stdout",
     "output_type": "stream",
     "text": [
      "1 Physical GPUs, 1 Logical GPUs\n"
     ]
    }
   ],
   "source": [
    "import tensorflow as tf\n",
    "\n",
    "gpus = tf.config.experimental.list_physical_devices('GPU')\n",
    "if gpus:\n",
    "  try:\n",
    "    # Currently, memory growth needs to be the same across GPUs\n",
    "    for gpu in gpus:\n",
    "      tf.config.experimental.set_memory_growth(gpu, True)\n",
    "    logical_gpus = tf.config.experimental.list_logical_devices('GPU')\n",
    "    print(len(gpus), \"Physical GPUs,\", len(logical_gpus), \"Logical GPUs\")\n",
    "  except RuntimeError as e:\n",
    "    # Memory growth must be set before GPUs have been initialized\n",
    "    print(e)\n",
    "\n",
    "import tensorflow.keras as keras\n",
    "import tensorflow.keras.backend as K\n",
    "# from tensorflow.keras.layers import Input, Dense, Activation, BatchNormalization\n",
    "# from tensorflow.keras.layers import Conv1D\n",
    "# from tensorflow.keras.layers import Flatten, Reshape, Lambda\n",
    "# from tensorflow.keras.utils import plot_model\n",
    "# from tensorflow.keras import Model\n",
    "\n",
    "import os\n",
    "import os.path as osp\n",
    "import sys\n",
    "\n",
    "import numpy as np\n",
    "#from scipy import linalg as LA\n",
    "\n",
    "import matplotlib\n",
    "import matplotlib.pyplot as plt\n",
    "\n",
    "%load_ext autoreload\n",
    "%autoreload 2\n",
    "\n",
    "from utils.tf_sinkhorn import ground_distance_tf_nograd, sinkhorn_knopp_tf_scaling_stabilized_class\n",
    "import utils.VAE_model_tools\n",
    "from utils.VAE_model_tools import build_and_compile_annealing_vae, betaVAEModel, reset_metrics\n",
    "\n",
    "import pandas\n",
    "import matplotlib.pyplot as plt\n",
    "\n",
    "import h5py\n",
    "import pickle\n"
   ]
  },
  {
   "cell_type": "code",
   "execution_count": 158,
   "metadata": {},
   "outputs": [],
   "source": [
    "def create_dir(dir_path):\n",
    "    ''' Creates a directory (or nested directories) if they don't exist.\n",
    "    '''\n",
    "    if not osp.exists(dir_path):\n",
    "        os.makedirs(dir_path)\n",
    "\n",
    "    return dir_path\n",
    "\n",
    "output_dir = './data/'\n",
    "\n",
    "def ptetaphiE_to_Epxpypz(jets):\n",
    "    pt = jets[:,:,0]\n",
    "    eta = jets[:,:,1]\n",
    "    phi = jets[:,:,2]\n",
    "    E = jets[:,:,3]\n",
    "    \n",
    "    px = pt * np.cos(phi)\n",
    "    py = pt * np.sin(phi)\n",
    "    pz = pt * np.sinh(eta)\n",
    "    \n",
    "    newjets = np.zeros(jets.shape)\n",
    "    newjets[:,:,0] = E\n",
    "    newjets[:,:,1] = px\n",
    "    newjets[:,:,2] = py\n",
    "    newjets[:,:,3] = pz\n",
    "    \n",
    "    return newjets\n",
    "\n",
    "def ptetaphiE_to_ptyphim(jets):\n",
    "    pt = jets[:,:,0]\n",
    "    eta = jets[:,:,1]\n",
    "    phi = jets[:,:,2]\n",
    "    E = jets[:,:,3]\n",
    "    \n",
    "    pz = pt * np.sinh(eta)\n",
    "    y = 0.5*np.nan_to_num(np.log((E+pz)/(E-pz)))\n",
    "    \n",
    "    msqr = np.square(E)-np.square(pt)-np.square(pz)\n",
    "    msqr[np.abs(msqr) < 1e-6] = 0\n",
    "    m = np.sqrt(msqr)\n",
    "    \n",
    "    newjets = np.zeros(jets.shape)\n",
    "    newjets[:,:,0] = pt\n",
    "    newjets[:,:,1] = y\n",
    "    newjets[:,:,2] = phi\n",
    "    newjets[:,:,3] = m\n",
    "    \n",
    "    return newjets\n",
    "    \n",
    "def ptyphim_to_ptetaphiE(jets):\n",
    "    \n",
    "    pt = jets[:,:,0]\n",
    "    y = jets[:,:,1]\n",
    "    phi = jets[:,:,2]\n",
    "    m = jets[:,:,3]\n",
    "    \n",
    "    eta = np.nan_to_num(np.arcsinh(np.sinh(y)*np.sqrt(1+np.square(m/pt))))\n",
    "    pz = pt * np.sinh(eta)\n",
    "    E = np.sqrt(np.square(pz)+np.square(pt)+np.square(m))\n",
    "    \n",
    "    newjets = np.zeros(jets.shape)\n",
    "    newjets[:,:,0] = pt\n",
    "    newjets[:,:,1] = eta\n",
    "    newjets[:,:,2] = phi\n",
    "    newjets[:,:,3] = E\n",
    "    \n",
    "    return newjets\n",
    "    \n",
    "def center_jets_ptetaphiE(jets):\n",
    "    cartesian_jets = ptetaphiE_to_Epxpypz(jets)\n",
    "    sumjet_cartesian = np.sum(cartesian_jets,axis=1)\n",
    "    \n",
    "    sumjet_phi = np.arctan2(sumjet_cartesian[:,2],sumjet_cartesian[:,1])\n",
    "    sumjet_y = 0.5*np.log((sumjet_cartesian[:,0] + sumjet_cartesian[:,-1])/(sumjet_cartesian[:,0] - sumjet_cartesian[:,-1]))\n",
    "    \n",
    "    ptyphim_jets = ptetaphiE_to_ptyphim(jets)\n",
    "    #print(ptyphim_jets[:3,:,:])\n",
    "    \n",
    "    transformed_jets = np.copy(ptyphim_jets)\n",
    "    transformed_jets[:,:,1] = ptyphim_jets[:,:,1] - sumjet_y[:,None]\n",
    "    transformed_jets[:,:,2] = ptyphim_jets[:,:,2] - sumjet_phi[:,None]\n",
    "    transformed_jets[:,:,2] = transformed_jets[:,:,2] + np.pi\n",
    "    transformed_jets[:,:,2] = np.mod(transformed_jets[:,:,2],2*np.pi)\n",
    "    transformed_jets[:,:,2] = transformed_jets[:,:,2] - np.pi\n",
    "\n",
    "    transformed_jets[transformed_jets[:,:,0] == 0] = 0\n",
    "    \n",
    "    newjets = ptyphim_to_ptetaphiE(transformed_jets)\n",
    "    return newjets\n",
    "    "
   ]
  },
  {
   "cell_type": "code",
   "execution_count": 154,
   "metadata": {},
   "outputs": [
    {
     "data": {
      "text/plain": [
       "array([-1.95878748, -1.90034937])"
      ]
     },
     "execution_count": 154,
     "metadata": {},
     "output_type": "execute_result"
    }
   ],
   "source": [
    "sumjet_phi"
   ]
  },
  {
   "cell_type": "code",
   "execution_count": 155,
   "metadata": {},
   "outputs": [
    {
     "name": "stderr",
     "output_type": "stream",
     "text": [
      "<ipython-input-153-5150e05f3be4>:36: RuntimeWarning: invalid value encountered in true_divide\n",
      "  y = 0.5*np.nan_to_num(np.log((E+pz)/(E-pz)))\n",
      "<ipython-input-153-5150e05f3be4>:57: RuntimeWarning: invalid value encountered in true_divide\n",
      "  eta = np.nan_to_num(np.arcsinh(np.sinh(y)*np.sqrt(1+np.square(m/pt))))\n"
     ]
    }
   ],
   "source": [
    "jets = data[0:2]\n",
    "this = center_jets_ptetaphiE(jets)"
   ]
  },
  {
   "cell_type": "code",
   "execution_count": 156,
   "metadata": {},
   "outputs": [
    {
     "data": {
      "text/plain": [
       "array([ 0.05336568, -0.19611154,  0.24988242,  0.14157883, -0.10185905,\n",
       "        0.08940144, -0.28236875, -0.02938134, -0.07818067, -0.15213836,\n",
       "        0.09155677,  0.5290762 ,  0.00659413, -0.29460946,  0.29623268,\n",
       "        0.49414509, -0.73762267, -0.42383062, -0.91727924, -0.20876193,\n",
       "        0.18704053,  0.21334067,  0.86678429, -0.57836097,  0.35393138,\n",
       "       -0.63817282,  0.71705465,  0.73441442,  0.19266944, -0.23034891,\n",
       "       -0.67779492,  0.        ,  0.        ,  0.        ,  0.        ,\n",
       "        0.        ,  0.        ,  0.        ,  0.        ,  0.        ,\n",
       "        0.        ,  0.        ,  0.        ,  0.        ,  0.        ,\n",
       "        0.        ,  0.        ,  0.        ,  0.        ,  0.        ])"
      ]
     },
     "execution_count": 156,
     "metadata": {},
     "output_type": "execute_result"
    }
   ],
   "source": [
    "this[0,:,2]"
   ]
  },
  {
   "cell_type": "code",
   "execution_count": 150,
   "metadata": {},
   "outputs": [
    {
     "name": "stderr",
     "output_type": "stream",
     "text": [
      "<ipython-input-142-452218278313>:36: RuntimeWarning: invalid value encountered in true_divide\n",
      "  y = 0.5*np.nan_to_num(np.log((E+pz)/(E-pz)))\n"
     ]
    }
   ],
   "source": [
    "cartesian_jets = ptetaphiE_to_Epxpypz(jets)\n",
    "sumjet_cartesian = np.sum(cartesian_jets,axis=1)\n",
    "\n",
    "sumjet_phi = np.arctan2(sumjet_cartesian[:,2],sumjet_cartesian[:,1])\n",
    "sumjet_y = 0.5*np.log((sumjet_cartesian[:,0] + sumjet_cartesian[:,-1])/(sumjet_cartesian[:,0] - sumjet_cartesian[:,-1]))\n",
    "ptyphim_jets = ptetaphiE_to_ptyphim(jets)\n",
    "\n",
    "transformed_jets = np.copy(ptyphim_jets)\n",
    "transformed_jets[:,:,1] = ptyphim_jets[:,:,1] - sumjet_y[:,None]\n",
    "transformed_jets[:,:,2] = ptyphim_jets[:,:,2] - sumjet_phi[:,None]\n",
    "transformed_jets[:,:,2] = transformed_jets[:,:,2] + np.pi\n",
    "transformed_jets[:,:,2] = np.mod(transformed_jets[:,:,2],2*np.pi)\n",
    "transformed_jets[:,:,2] = transformed_jets[:,:,2] - np.pi"
   ]
  },
  {
   "cell_type": "code",
   "execution_count": 151,
   "metadata": {},
   "outputs": [
    {
     "data": {
      "text/plain": [
       "array([-1.9054218 , -2.15489902, -1.70890506, -1.81720865, -2.06064653,\n",
       "       -1.86938604, -2.24115623, -1.98816882, -2.03696815, -2.11092584,\n",
       "       -1.86723071, -1.42971128, -1.95219335, -2.25339694, -1.6625548 ,\n",
       "       -1.46464238, -2.69641014, -2.3826181 , -2.87606672, -2.16754941,\n",
       "       -1.77174695, -1.7454468 , -1.09200319, -2.53714845, -1.6048561 ,\n",
       "       -2.5969603 , -1.24173283, -1.22437306, -1.76611804, -2.18913639,\n",
       "       -2.6365824 ,  1.18280518,  1.18280518,  1.18280518,  1.18280518,\n",
       "        1.18280518,  1.18280518,  1.18280518,  1.18280518,  1.18280518,\n",
       "        1.18280518,  1.18280518,  1.18280518,  1.18280518,  1.18280518,\n",
       "        1.18280518,  1.18280518,  1.18280518,  1.18280518,  1.18280518])"
      ]
     },
     "execution_count": 151,
     "metadata": {},
     "output_type": "execute_result"
    }
   ],
   "source": [
    "ptyphim_jets[0,:,2]"
   ]
  },
  {
   "cell_type": "code",
   "execution_count": 152,
   "metadata": {},
   "outputs": [
    {
     "data": {
      "text/plain": [
       "array([[-1.95878748],\n",
       "       [-1.90034937]])"
      ]
     },
     "execution_count": 152,
     "metadata": {},
     "output_type": "execute_result"
    }
   ],
   "source": [
    "sumjet_phi[:,None]"
   ]
  },
  {
   "cell_type": "code",
   "execution_count": 133,
   "metadata": {},
   "outputs": [
    {
     "data": {
      "text/plain": [
       "array([[ 7.03576131e-01,  1.38958095e+00, -1.90542180e+00,\n",
       "         1.20309630e-02],\n",
       "       [ 2.16898474e-01,  1.50957744e+00, -2.15489902e+00,\n",
       "         7.70915789e-03],\n",
       "       [ 1.89505373e-02,  1.60033585e+00, -1.70890506e+00,\n",
       "         1.53677432e-03],\n",
       "       [ 1.53381211e-02,  1.67085073e+00, -1.81720865e+00,\n",
       "         1.28216450e-03],\n",
       "       [ 1.32579025e-02,  1.53381304e+00, -2.06064653e+00,\n",
       "         7.10652757e-04],\n",
       "       [ 9.37008207e-03,  1.48369369e+00, -1.86938604e+00,\n",
       "         9.56582848e-04],\n",
       "       [ 3.59286550e-03,  5.32778300e-01, -2.24115623e+00,\n",
       "         4.98355408e-04],\n",
       "       [ 3.44217527e-03,  8.95583761e-01, -1.98816882e+00,\n",
       "         2.68313116e-04],\n",
       "       [ 3.15475526e-03,  1.44198869e+00, -2.03696815e+00,\n",
       "         2.68305738e-04],\n",
       "       [ 1.76339038e-03,  1.79643765e+00, -2.11092584e+00,\n",
       "         3.45964773e-04],\n",
       "       [ 1.48721600e-03,  1.83987678e+00, -1.86723071e+00,\n",
       "         0.00000000e+00],\n",
       "       [ 1.09679988e-03,  2.10639127e+00, -1.42971128e+00,\n",
       "         0.00000000e+00],\n",
       "       [ 1.01634737e-03,  1.48844980e+00, -1.95219335e+00,\n",
       "         0.00000000e+00],\n",
       "       [ 9.64518146e-04,  1.26047959e+00, -2.25339694e+00,\n",
       "         1.53257472e-05],\n",
       "       [ 9.46431523e-04,  1.68089204e+00, -1.66255480e+00,\n",
       "         2.68309645e-04],\n",
       "       [ 6.50569256e-04,  1.09316512e+00, -1.46464238e+00,\n",
       "         1.80623324e-03],\n",
       "       [ 6.38233078e-04,  1.81415996e+00, -2.69641014e+00,\n",
       "         0.00000000e+00],\n",
       "       [ 6.29949375e-04,  1.96402414e+00, -2.38261810e+00,\n",
       "         2.68308598e-04],\n",
       "       [ 5.87132471e-04,  1.32820997e+00, -2.87606672e+00,\n",
       "         0.00000000e+00],\n",
       "       [ 5.84837298e-04,  5.91821452e-01, -2.16754941e+00,\n",
       "         2.68309845e-04],\n",
       "       [ 2.83588555e-04,  1.96272770e+00, -1.77174695e+00,\n",
       "         2.68309484e-04],\n",
       "       [ 2.79566470e-04,  6.20694652e-01, -1.74544680e+00,\n",
       "         9.49052562e-04],\n",
       "       [ 2.69732821e-04,  1.03300659e+00, -1.09200319e+00,\n",
       "         2.68310031e-04],\n",
       "       [ 2.21616585e-04,  7.41043663e-01, -2.53714845e+00,\n",
       "         0.00000000e+00],\n",
       "       [ 1.89476692e-04,  1.76845015e+00, -1.60485610e+00,\n",
       "         2.68309846e-04],\n",
       "       [ 1.75254896e-04,  2.13396143e+00, -2.59696030e+00,\n",
       "         0.00000000e+00],\n",
       "       [ 1.70979311e-04,  1.51944241e+00, -1.24173283e+00,\n",
       "         0.00000000e+00],\n",
       "       [ 1.27447948e-04,  1.98041356e+00, -1.22437306e+00,\n",
       "         0.00000000e+00],\n",
       "       [ 1.17808417e-04,  2.11422240e+00, -1.76611804e+00,\n",
       "         0.00000000e+00],\n",
       "       [ 1.13663627e-04,  7.48007738e-01, -2.18913639e+00,\n",
       "         0.00000000e+00],\n",
       "       [ 1.04395337e-04,  9.07689229e-01, -2.63658240e+00,\n",
       "         0.00000000e+00],\n",
       "       [ 0.00000000e+00,  7.18668699e-01,  1.18280518e+00,\n",
       "         0.00000000e+00],\n",
       "       [ 0.00000000e+00,  7.18668699e-01,  1.18280518e+00,\n",
       "         0.00000000e+00],\n",
       "       [ 0.00000000e+00,  7.18668699e-01,  1.18280518e+00,\n",
       "         0.00000000e+00],\n",
       "       [ 0.00000000e+00,  7.18668699e-01,  1.18280518e+00,\n",
       "         0.00000000e+00],\n",
       "       [ 0.00000000e+00,  7.18668699e-01,  1.18280518e+00,\n",
       "         0.00000000e+00],\n",
       "       [ 0.00000000e+00,  7.18668699e-01,  1.18280518e+00,\n",
       "         0.00000000e+00],\n",
       "       [ 0.00000000e+00,  7.18668699e-01,  1.18280518e+00,\n",
       "         0.00000000e+00],\n",
       "       [ 0.00000000e+00,  7.18668699e-01,  1.18280518e+00,\n",
       "         0.00000000e+00],\n",
       "       [ 0.00000000e+00,  7.18668699e-01,  1.18280518e+00,\n",
       "         0.00000000e+00],\n",
       "       [ 0.00000000e+00,  7.18668699e-01,  1.18280518e+00,\n",
       "         0.00000000e+00],\n",
       "       [ 0.00000000e+00,  7.18668699e-01,  1.18280518e+00,\n",
       "         0.00000000e+00],\n",
       "       [ 0.00000000e+00,  7.18668699e-01,  1.18280518e+00,\n",
       "         0.00000000e+00],\n",
       "       [ 0.00000000e+00,  7.18668699e-01,  1.18280518e+00,\n",
       "         0.00000000e+00],\n",
       "       [ 0.00000000e+00,  7.18668699e-01,  1.18280518e+00,\n",
       "         0.00000000e+00],\n",
       "       [ 0.00000000e+00,  7.18668699e-01,  1.18280518e+00,\n",
       "         0.00000000e+00],\n",
       "       [ 0.00000000e+00,  7.18668699e-01,  1.18280518e+00,\n",
       "         0.00000000e+00],\n",
       "       [ 0.00000000e+00,  7.18668699e-01,  1.18280518e+00,\n",
       "         0.00000000e+00],\n",
       "       [ 0.00000000e+00,  7.18668699e-01,  1.18280518e+00,\n",
       "         0.00000000e+00],\n",
       "       [ 0.00000000e+00,  7.18668699e-01,  1.18280518e+00,\n",
       "         0.00000000e+00]])"
      ]
     },
     "execution_count": 133,
     "metadata": {},
     "output_type": "execute_result"
    }
   ],
   "source": [
    "ptyphim_jets[0]"
   ]
  },
  {
   "cell_type": "code",
   "execution_count": 131,
   "metadata": {},
   "outputs": [
    {
     "data": {
      "text/plain": [
       "array([[ 7.03576131e-01, -3.34436119e-02,  8.48179701e-01,\n",
       "         1.20309630e-02],\n",
       "       [ 2.16898474e-01,  8.65528729e-02,  5.98702478e-01,\n",
       "         7.70915789e-03],\n",
       "       [ 1.89505373e-02,  1.77311287e-01,  1.04469645e+00,\n",
       "         1.53677432e-03],\n",
       "       [ 1.53381211e-02,  2.47826161e-01,  9.36392854e-01,\n",
       "         1.28216450e-03],\n",
       "       [ 1.32579025e-02,  1.10788472e-01,  6.92954969e-01,\n",
       "         7.10652757e-04],\n",
       "       [ 9.37008207e-03,  6.06691248e-02,  8.84215458e-01,\n",
       "         9.56582848e-04],\n",
       "       [ 3.59286550e-03, -8.90246265e-01,  5.12445276e-01,\n",
       "         4.98355408e-04],\n",
       "       [ 3.44217527e-03, -5.27440804e-01,  7.65432685e-01,\n",
       "         2.68313116e-04],\n",
       "       [ 3.15475526e-03,  1.89641252e-02,  7.16633355e-01,\n",
       "         2.68305738e-04],\n",
       "       [ 1.76339038e-03,  3.73413085e-01,  6.42675661e-01,\n",
       "         3.45964773e-04],\n",
       "       [ 1.48721600e-03,  4.16852218e-01,  8.86370795e-01,\n",
       "         0.00000000e+00],\n",
       "       [ 1.09679988e-03,  6.83366706e-01,  1.32389022e+00,\n",
       "         0.00000000e+00],\n",
       "       [ 1.01634737e-03,  6.54252339e-02,  8.01408153e-01,\n",
       "         0.00000000e+00],\n",
       "       [ 9.64518146e-04, -1.62544978e-01,  5.00204561e-01,\n",
       "         1.53257472e-05],\n",
       "       [ 9.46431523e-04,  2.57867471e-01,  1.09104670e+00,\n",
       "         2.68309645e-04],\n",
       "       [ 6.50569256e-04, -3.29859442e-01,  1.28895912e+00,\n",
       "         1.80623324e-03],\n",
       "       [ 6.38233078e-04,  3.91135399e-01,  5.71913570e-02,\n",
       "         0.00000000e+00],\n",
       "       [ 6.29949375e-04,  5.40999573e-01,  3.70983401e-01,\n",
       "         2.68308598e-04],\n",
       "       [ 5.87132471e-04, -9.48145981e-02, -1.22465221e-01,\n",
       "         0.00000000e+00],\n",
       "       [ 5.84837298e-04, -8.31203113e-01,  5.86052093e-01,\n",
       "         2.68309845e-04],\n",
       "       [ 2.83588555e-04,  5.39703138e-01,  9.81854553e-01,\n",
       "         2.68309484e-04],\n",
       "       [ 2.79566470e-04, -8.02329912e-01,  1.00815470e+00,\n",
       "         9.49052562e-04],\n",
       "       [ 2.69732821e-04, -3.90017970e-01,  1.66159831e+00,\n",
       "         2.68310031e-04],\n",
       "       [ 2.21616585e-04, -6.81980902e-01,  2.16453050e-01,\n",
       "         0.00000000e+00],\n",
       "       [ 1.89476692e-04,  3.45425586e-01,  1.14874541e+00,\n",
       "         2.68309846e-04],\n",
       "       [ 1.75254896e-04,  7.10936865e-01,  1.56641203e-01,\n",
       "         0.00000000e+00],\n",
       "       [ 1.70979311e-04,  9.64178474e-02,  1.51186867e+00,\n",
       "         0.00000000e+00],\n",
       "       [ 1.27447948e-04,  5.57389000e-01,  1.52922844e+00,\n",
       "         0.00000000e+00],\n",
       "       [ 1.17808417e-04,  6.91197834e-01,  9.87483458e-01,\n",
       "         0.00000000e+00],\n",
       "       [ 1.13663627e-04, -6.75016827e-01,  5.64465111e-01,\n",
       "         0.00000000e+00],\n",
       "       [ 1.04395337e-04, -5.15335336e-01,  1.17019105e-01,\n",
       "         0.00000000e+00],\n",
       "       [ 0.00000000e+00, -7.04355865e-01, -2.34677863e+00,\n",
       "         0.00000000e+00],\n",
       "       [ 0.00000000e+00, -7.04355865e-01, -2.34677863e+00,\n",
       "         0.00000000e+00],\n",
       "       [ 0.00000000e+00, -7.04355865e-01, -2.34677863e+00,\n",
       "         0.00000000e+00],\n",
       "       [ 0.00000000e+00, -7.04355865e-01, -2.34677863e+00,\n",
       "         0.00000000e+00],\n",
       "       [ 0.00000000e+00, -7.04355865e-01, -2.34677863e+00,\n",
       "         0.00000000e+00],\n",
       "       [ 0.00000000e+00, -7.04355865e-01, -2.34677863e+00,\n",
       "         0.00000000e+00],\n",
       "       [ 0.00000000e+00, -7.04355865e-01, -2.34677863e+00,\n",
       "         0.00000000e+00],\n",
       "       [ 0.00000000e+00, -7.04355865e-01, -2.34677863e+00,\n",
       "         0.00000000e+00],\n",
       "       [ 0.00000000e+00, -7.04355865e-01, -2.34677863e+00,\n",
       "         0.00000000e+00],\n",
       "       [ 0.00000000e+00, -7.04355865e-01, -2.34677863e+00,\n",
       "         0.00000000e+00],\n",
       "       [ 0.00000000e+00, -7.04355865e-01, -2.34677863e+00,\n",
       "         0.00000000e+00],\n",
       "       [ 0.00000000e+00, -7.04355865e-01, -2.34677863e+00,\n",
       "         0.00000000e+00],\n",
       "       [ 0.00000000e+00, -7.04355865e-01, -2.34677863e+00,\n",
       "         0.00000000e+00],\n",
       "       [ 0.00000000e+00, -7.04355865e-01, -2.34677863e+00,\n",
       "         0.00000000e+00],\n",
       "       [ 0.00000000e+00, -7.04355865e-01, -2.34677863e+00,\n",
       "         0.00000000e+00],\n",
       "       [ 0.00000000e+00, -7.04355865e-01, -2.34677863e+00,\n",
       "         0.00000000e+00],\n",
       "       [ 0.00000000e+00, -7.04355865e-01, -2.34677863e+00,\n",
       "         0.00000000e+00],\n",
       "       [ 0.00000000e+00, -7.04355865e-01, -2.34677863e+00,\n",
       "         0.00000000e+00],\n",
       "       [ 0.00000000e+00, -7.04355865e-01, -2.34677863e+00,\n",
       "         0.00000000e+00]])"
      ]
     },
     "execution_count": 131,
     "metadata": {},
     "output_type": "execute_result"
    }
   ],
   "source": [
    "transformed_jets[0]"
   ]
  },
  {
   "cell_type": "code",
   "execution_count": 111,
   "metadata": {},
   "outputs": [
    {
     "data": {
      "text/plain": [
       "array([[  1.        ,  75.13997711, -38.57886604,   2.21465659],\n",
       "       [  1.        ,  15.63506297, -38.03416826,   1.06211887]])"
      ]
     },
     "execution_count": 111,
     "metadata": {},
     "output_type": "execute_result"
    }
   ],
   "source": [
    "sumjet_cartesian"
   ]
  },
  {
   "cell_type": "markdown",
   "metadata": {},
   "source": [
    "## Generate training data"
   ]
  },
  {
   "cell_type": "markdown",
   "metadata": {},
   "source": [
    "Input data is 2D, generated in the shape of a banana (plotted below) defined by two gaussians with widths 1 and 0.1. The VAE will be tasked with reconstructing the 2D location of the input points, using euclidean distance as the reconstruction error. The latent space is 2D, so can in principle easily encode everything about the input. This will be regulated by the variational latent space"
   ]
  },
  {
   "cell_type": "code",
   "execution_count": 3,
   "metadata": {},
   "outputs": [],
   "source": [
    "# path to file\n",
    "fn =  '/home/jcollins/projects/EMD_VAE/in_data/monoW-data.h5'"
   ]
  },
  {
   "cell_type": "code",
   "execution_count": 80,
   "metadata": {
    "tags": []
   },
   "outputs": [
    {
     "name": "stdout",
     "output_type": "stream",
     "text": [
      "(430733, 200)\n",
      "Memory in GB: 1.290102794766426\n"
     ]
    }
   ],
   "source": [
    "# Option 1: Load everything into memory\n",
    "df = pandas.read_hdf(fn,stop=1000000)\n",
    "print(df.shape)\n",
    "print(\"Memory in GB:\",sum(df.memory_usage(deep=True)) / (1024**3)+sum(df.memory_usage(deep=True)) / (1024**3))"
   ]
  },
  {
   "cell_type": "code",
   "execution_count": 163,
   "metadata": {},
   "outputs": [
    {
     "name": "stderr",
     "output_type": "stream",
     "text": [
      "<ipython-input-158-c1d138f24178>:36: RuntimeWarning: invalid value encountered in true_divide\n",
      "  y = 0.5*np.nan_to_num(np.log((E+pz)/(E-pz)))\n",
      "<ipython-input-158-c1d138f24178>:57: RuntimeWarning: invalid value encountered in true_divide\n",
      "  eta = np.nan_to_num(np.arcsinh(np.sinh(y)*np.sqrt(1+np.square(m/pt))))\n"
     ]
    }
   ],
   "source": [
    "data = df.values.reshape((-1,50,4))\n",
    "\n",
    "HT = np.sum(data[:,:,0],axis=-1)\n",
    "data[:,:,0] = data[:,:,0]/HT[:,None]\n",
    "data[:,:,-1] = data[:,:,-1]/HT[:,None]\n",
    "\n",
    "data = center_jets_ptetaphiE(data)\n",
    "\n",
    "sig_input = np.zeros((len(data),50,5))\n",
    "sig_input[:,:,:2] = data[:,:,:2]\n",
    "sig_input[:,:,2] = np.cos(data[:,:,2])\n",
    "sig_input[:,:,3] = np.sin(data[:,:,2])\n",
    "sig_input[:,:,4] = np.log(data[:,:,3]+1e-8)\n",
    "\n",
    "data_x = sig_input\n",
    "data_y = data[:,:,:3]\n",
    "\n",
    "\n",
    "train_x = data_x[:300000]\n",
    "train_y = data_y[:300000]\n",
    "valid_x = data_x[300000:400000]\n",
    "valid_y = data_y[300000:400000]"
   ]
  },
  {
   "cell_type": "code",
   "execution_count": 174,
   "metadata": {
    "tags": []
   },
   "outputs": [
    {
     "name": "stdout",
     "output_type": "stream",
     "text": [
      "Model: \"VAE\"\n",
      "__________________________________________________________________________________________________\n",
      "Layer (type)                    Output Shape         Param #     Connected to                     \n",
      "==================================================================================================\n",
      "inputs (InputLayer)             [(None, 50, 5)]      0                                            \n",
      "__________________________________________________________________________________________________\n",
      "conv1d_40 (Conv1D)              (None, 50, 2048)     12288       inputs[0][0]                     \n",
      "__________________________________________________________________________________________________\n",
      "re_lu_126 (ReLU)                (None, 50, 2048)     0           conv1d_40[0][0]                  \n",
      "__________________________________________________________________________________________________\n",
      "conv1d_41 (Conv1D)              (None, 50, 2048)     4196352     re_lu_126[0][0]                  \n",
      "__________________________________________________________________________________________________\n",
      "re_lu_127 (ReLU)                (None, 50, 2048)     0           conv1d_41[0][0]                  \n",
      "__________________________________________________________________________________________________\n",
      "conv1d_42 (Conv1D)              (None, 50, 1028)     2106372     re_lu_127[0][0]                  \n",
      "__________________________________________________________________________________________________\n",
      "re_lu_128 (ReLU)                (None, 50, 1028)     0           conv1d_42[0][0]                  \n",
      "__________________________________________________________________________________________________\n",
      "conv1d_43 (Conv1D)              (None, 50, 1024)     1053696     re_lu_128[0][0]                  \n",
      "__________________________________________________________________________________________________\n",
      "re_lu_129 (ReLU)                (None, 50, 1024)     0           conv1d_43[0][0]                  \n",
      "__________________________________________________________________________________________________\n",
      "tf_op_layer_Sum_10 (TensorFlowO multiple             0           re_lu_129[0][0]                  \n",
      "__________________________________________________________________________________________________\n",
      "dense_96 (Dense)                (None, 1028)         1053700     tf_op_layer_Sum_10[0][0]         \n",
      "__________________________________________________________________________________________________\n",
      "re_lu_130 (ReLU)                (None, 1028)         0           dense_96[0][0]                   \n",
      "__________________________________________________________________________________________________\n",
      "dense_97 (Dense)                (None, 1028)         1057812     re_lu_130[0][0]                  \n",
      "__________________________________________________________________________________________________\n",
      "re_lu_131 (ReLU)                (None, 1028)         0           dense_97[0][0]                   \n",
      "__________________________________________________________________________________________________\n",
      "dense_98 (Dense)                (None, 1028)         1057812     re_lu_131[0][0]                  \n",
      "__________________________________________________________________________________________________\n",
      "re_lu_132 (ReLU)                (None, 1028)         0           dense_98[0][0]                   \n",
      "__________________________________________________________________________________________________\n",
      "dense_99 (Dense)                (None, 512)          526848      re_lu_132[0][0]                  \n",
      "__________________________________________________________________________________________________\n",
      "re_lu_133 (ReLU)                (None, 512)          0           dense_99[0][0]                   \n",
      "__________________________________________________________________________________________________\n",
      "z_mean (Dense)                  (None, 128)          65664       re_lu_133[0][0]                  \n",
      "__________________________________________________________________________________________________\n",
      "z_log_var (Dense)               (None, 128)          65664       re_lu_133[0][0]                  \n",
      "__________________________________________________________________________________________________\n",
      "encoder (Functional)            [(None, 128), (None, 11196208    inputs[0][0]                     \n",
      "__________________________________________________________________________________________________\n",
      "tf_op_layer_stack_10 (TensorFlo multiple             0           z_mean[0][0]                     \n",
      "                                                                 z_log_var[0][0]                  \n",
      "__________________________________________________________________________________________________\n",
      "decoder (Functional)            (None, 50, 3)        11765126    encoder[0][2]                    \n",
      "__________________________________________________________________________________________________\n",
      "encoder_gauss_distribution (Dis ((None, 128), (None, 11196208    tf_op_layer_stack_10[0][0]       \n",
      "==================================================================================================\n",
      "Total params: 22,961,335\n",
      "Trainable params: 22,961,334\n",
      "Non-trainable params: 1\n",
      "__________________________________________________________________________________________________\n"
     ]
    }
   ],
   "source": [
    "experiment_name = 'W-test'\n",
    "train_output_dir = create_dir(osp.join(output_dir, experiment_name))\n",
    "vae, encoder, decoder = build_and_compile_annealing_vae(optimizer=keras.optimizers.Adam(lr=0.001,clipnorm=0.1),\n",
    "                                    encoder_conv_layers = [2048,2048,1028,1024],\n",
    "                                    dense_size = [1028,1028,1028,512],\n",
    "                                    decoder = [4026,2048,1028,512,512],\n",
    "                                    numItermaxinner = 10,\n",
    "                                    numIter=10,\n",
    "                                    reg_init = 1.,\n",
    "                                    reg_final = 0.01,\n",
    "                                    stopThr=1e-3,\n",
    "                                    num_inputs=5,\n",
    "                                    num_particles_in=50)\n",
    "\n",
    "batch_size=100\n",
    "save_period=2\n",
    "\n",
    "reduceLR = keras.callbacks.ReduceLROnPlateau(monitor='loss', factor=0.1, patience=2, verbose=1, mode='auto', min_delta=1e-4, cooldown=0, min_lr=0)\n",
    "modelcheckpoint = keras.callbacks.ModelCheckpoint(train_output_dir + '/model_weights_{epoch:02d}.hdf5', save_freq = save_period*5000, save_weights_only=True)\n",
    "reset_metrics_inst = reset_metrics()\n",
    "\n",
    "callbacks=[tf.keras.callbacks.CSVLogger(train_output_dir + '/log.csv', separator=\",\", append=True),\n",
    "            reduceLR,\n",
    "            modelcheckpoint,\n",
    "            reset_metrics_inst]"
   ]
  },
  {
   "cell_type": "code",
   "execution_count": 175,
   "metadata": {
    "scrolled": false,
    "tags": []
   },
   "outputs": [
    {
     "name": "stdout",
     "output_type": "stream",
     "text": [
      "Epoch 1/10\n",
      "3000/3000 [==============================] - 292s 97ms/step - loss: 31545.6105 - recon_loss: 0.0312 - KL loss: 364.0737 - beta: 0.0010 - val_val_loss: 3035.8828 - val_val_recon_loss: 0.0028 - val_val_KL loss: 216.0859 - val_beta: 0.0010\n",
      "Epoch 2/10\n",
      "3000/3000 [==============================] - 298s 99ms/step - loss: 2562.1515 - recon_loss: 0.0024 - KL loss: 208.7358 - beta: 0.0010 - val_val_loss: 1790.0328 - val_val_recon_loss: 0.0016 - val_val_KL loss: 195.8736 - val_beta: 0.0010\n",
      "Epoch 3/10\n",
      "3000/3000 [==============================] - 294s 98ms/step - loss: 1717.0348 - recon_loss: 0.0015 - KL loss: 188.5682 - beta: 0.0010 - val_val_loss: 1465.5890 - val_val_recon_loss: 0.0013 - val_val_KL loss: 165.7694 - val_beta: 0.0010\n",
      "Epoch 4/10\n",
      "3000/3000 [==============================] - 300s 100ms/step - loss: 1336.4881 - recon_loss: 0.0012 - KL loss: 159.1612 - beta: 0.0010 - val_val_loss: 1250.8861 - val_val_recon_loss: 0.0011 - val_val_KL loss: 136.8937 - val_beta: 0.0010\n",
      "Epoch 5/10\n",
      "3000/3000 [==============================] - 301s 100ms/step - loss: 1162.3576 - recon_loss: 0.0010 - KL loss: 131.9732 - beta: 0.0010 - val_val_loss: 1004.2979 - val_val_recon_loss: 8.8298e-04 - val_val_KL loss: 121.3132 - val_beta: 0.0010\n",
      "Epoch 6/10\n",
      "3000/3000 [==============================] - 302s 101ms/step - loss: 994.6165 - recon_loss: 8.8093e-04 - KL loss: 113.6853 - beta: 0.0010 - val_val_loss: 877.8361 - val_val_recon_loss: 7.7744e-04 - val_val_KL loss: 100.4008 - val_beta: 0.0010\n",
      "Epoch 7/10\n",
      "3000/3000 [==============================] - 301s 100ms/step - loss: 898.4220 - recon_loss: 7.9853e-04 - KL loss: 99.8914 - beta: 0.0010 - val_val_loss: 1046.7361 - val_val_recon_loss: 9.5680e-04 - val_val_KL loss: 89.9342 - val_beta: 0.0010\n",
      "Epoch 8/10\n",
      "3000/3000 [==============================] - 303s 101ms/step - loss: 904.3195 - recon_loss: 8.1063e-04 - KL loss: 93.6912 - beta: 0.0010 - val_val_loss: 815.0855 - val_val_recon_loss: 7.2514e-04 - val_val_KL loss: 89.9421 - val_beta: 0.0010\n",
      "Epoch 9/10\n",
      "3000/3000 [==============================] - 303s 101ms/step - loss: 808.4476 - recon_loss: 7.1980e-04 - KL loss: 88.6443 - beta: 0.0010 - val_val_loss: 789.7326 - val_val_recon_loss: 6.9718e-04 - val_val_KL loss: 92.5544 - val_beta: 0.0010\n",
      "Epoch 10/10\n",
      "3000/3000 [==============================] - 301s 100ms/step - loss: 777.2548 - recon_loss: 6.9115e-04 - KL loss: 86.1005 - beta: 0.0010 - val_val_loss: 719.9601 - val_val_recon_loss: 6.3819e-04 - val_val_KL loss: 81.7716 - val_beta: 0.0010\n"
     ]
    }
   ],
   "source": [
    "batch_size=100\n",
    "save_period=2\n",
    "\n",
    "reduceLR = keras.callbacks.ReduceLROnPlateau(monitor='loss', factor=0.1, patience=2, verbose=1, mode='auto', min_delta=1e-4, cooldown=0, min_lr=0)\n",
    "modelcheckpoint = keras.callbacks.ModelCheckpoint(train_output_dir + '/model_weights_{epoch:02d}.hdf5', save_freq = save_period*5000, save_weights_only=True)\n",
    "reset_metrics_inst = reset_metrics()\n",
    "\n",
    "callbacks=[tf.keras.callbacks.CSVLogger(train_output_dir + '/log.csv', separator=\",\", append=True),\n",
    "            reduceLR,\n",
    "            modelcheckpoint,\n",
    "            reset_metrics_inst]\n",
    "\n",
    "vae.beta.assign(0.001)\n",
    "numbatches = 5000\n",
    "\n",
    "K.set_value(vae.optimizer.lr,1e-4)\n",
    "epochs = 10\n",
    "\n",
    "\n",
    "history = vae.fit(x=train_x[:numbatches*batch_size], y=train_y[:numbatches*batch_size], batch_size=batch_size,\n",
    "                epochs=epochs,verbose=1,#initial_epoch=int(vae.optimizer.iterations/numbatches),\n",
    "                validation_data = (valid_x[:10*batch_size],valid_y[:10*batch_size]),\n",
    "                callbacks = callbacks\n",
    "              )\n",
    "\n",
    "# tf.saved_model.save(vae, train_output_dir + '/mymodel.hdf5')"
   ]
  },
  {
   "cell_type": "code",
   "execution_count": 176,
   "metadata": {},
   "outputs": [],
   "source": [
    "reduceLR = keras.callbacks.ReduceLROnPlateau(monitor='loss', factor=np.sqrt(0.1), patience=4, verbose=1, mode='auto', min_delta=1e-4, cooldown=0, min_lr=1e-8)\n",
    "earlystop = tf.keras.callbacks.EarlyStopping(\n",
    "    monitor='val_val_loss', min_delta=0., patience=10, verbose=0, mode='auto',\n",
    "    baseline=None, restore_best_weights=False\n",
    ")\n",
    "\n",
    "modelcheckpoint = keras.callbacks.ModelCheckpoint(train_output_dir + '/model_weights_{epoch:02d}_' + str(beta) + '.hdf5', save_freq = save_period*numbatches, save_weights_only=True)\n",
    "reset_metrics_inst = reset_metrics()\n",
    "\n",
    "callbacks=[tf.keras.callbacks.CSVLogger(train_output_dir + '/log.csv', separator=\",\", append=True),\n",
    "            reduceLR,earlystop,\n",
    "            modelcheckpoint,\n",
    "            reset_metrics_inst]"
   ]
  },
  {
   "cell_type": "code",
   "execution_count": null,
   "metadata": {},
   "outputs": [
    {
     "name": "stdout",
     "output_type": "stream",
     "text": [
      "Epoch 11/1000\n",
      "3000/3000 [==============================] - 293s 98ms/step - loss: 196.3627 - recon_loss: 5.6451e-04 - KL loss: 55.2345 - beta: 0.0020 - val_val_loss: 225.5435 - val_val_recon_loss: 6.9774e-04 - val_val_KL loss: 51.1087 - val_beta: 0.0020\n",
      "Epoch 12/1000\n",
      "3000/3000 [==============================] - 299s 100ms/step - loss: 208.1082 - recon_loss: 6.4294e-04 - KL loss: 47.3731 - beta: 0.0020 - val_val_loss: 202.5759 - val_val_recon_loss: 6.2764e-04 - val_val_KL loss: 45.6665 - val_beta: 0.0020\n",
      "Epoch 13/1000\n",
      " 376/3000 [==>...........................] - ETA: 4:22 - loss: 193.4249 - recon_loss: 5.9747e-04 - KL loss: 44.0577 - beta: 0.0020"
     ]
    }
   ],
   "source": [
    "init_epoch = 10\n",
    "\n",
    "for beta in [0.002,0.005,0.01,0.02,0.05,0.1]:\n",
    "    \n",
    "    vae.beta.assign(beta)\n",
    "    K.set_value(vae.optimizer.lr,1e-4)\n",
    "    \n",
    "    my_history = vae.fit(x=train_x[:numbatches*batch_size], y=train_y[:numbatches*batch_size], batch_size=batch_size,\n",
    "                epochs=1000,verbose=1,#initial_epoch=int(vae.optimizer.iterations/numbatches),\n",
    "                validation_data = (valid_x[:10*batch_size],valid_y[:10*batch_size]),\n",
    "                callbacks = callbacks,initial_epoch=init_epoch\n",
    "              )\n",
    "    init_epoch = my_history.epoch[-1]"
   ]
  },
  {
   "cell_type": "code",
   "execution_count": 27,
   "metadata": {},
   "outputs": [
    {
     "ename": "NameError",
     "evalue": "name 'my_history' is not defined",
     "output_type": "error",
     "traceback": [
      "\u001b[0;31m---------------------------------------------------------------------------\u001b[0m",
      "\u001b[0;31mNameError\u001b[0m                                 Traceback (most recent call last)",
      "\u001b[0;32m<ipython-input-27-b956daf2b92b>\u001b[0m in \u001b[0;36m<module>\u001b[0;34m\u001b[0m\n\u001b[0;32m----> 1\u001b[0;31m \u001b[0mmy_history\u001b[0m\u001b[0;34m\u001b[0m\u001b[0;34m\u001b[0m\u001b[0m\n\u001b[0m",
      "\u001b[0;31mNameError\u001b[0m: name 'my_history' is not defined"
     ]
    }
   ],
   "source": [
    "my_history"
   ]
  },
  {
   "cell_type": "code",
   "execution_count": 34,
   "metadata": {},
   "outputs": [
    {
     "data": {
      "text/plain": [
       "[]"
      ]
     },
     "execution_count": 34,
     "metadata": {},
     "output_type": "execute_result"
    }
   ],
   "source": [
    "my_history.epoch"
   ]
  },
  {
   "cell_type": "code",
   "execution_count": null,
   "metadata": {},
   "outputs": [],
   "source": []
  }
 ],
 "metadata": {
  "kernelspec": {
   "display_name": "Python 3",
   "language": "python",
   "name": "python3"
  },
  "language_info": {
   "codemirror_mode": {
    "name": "ipython",
    "version": 3
   },
   "file_extension": ".py",
   "mimetype": "text/x-python",
   "name": "python",
   "nbconvert_exporter": "python",
   "pygments_lexer": "ipython3",
   "version": "3.8.5"
  }
 },
 "nbformat": 4,
 "nbformat_minor": 2
}
